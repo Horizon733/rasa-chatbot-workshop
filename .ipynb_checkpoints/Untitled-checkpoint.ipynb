{
 "cells": [
  {
   "cell_type": "code",
   "execution_count": 1,
   "metadata": {},
   "outputs": [],
   "source": [
    "import pandas as pd"
   ]
  },
  {
   "cell_type": "code",
   "execution_count": 6,
   "metadata": {},
   "outputs": [
    {
     "data": {
      "text/plain": [
       "'1. Panner Butter Masala --- 250\\n2. Roti --- 50\\n3. Veg.Pizza --- 150\\n4. Chicken Pizza --- 180\\n5. Cheese Pizza --- 100\\n6. Biryani --- 200\\n7. Schezwan Noodles --- 230\\n8. Schezwan Fried Rice --- 230\\n9. Cocacola --- 40\\n10. Thumps up --- 45\\n11. French Fries --- 70\\n'"
      ]
     },
     "execution_count": 6,
     "metadata": {},
     "output_type": "execute_result"
    }
   ],
   "source": [
    "menu =pd.read_csv('menu.csv',index_col=0)\n",
    "content = \"\"\n",
    "menu_list = menu.values.tolist()\n",
    "for i,j in enumerate(menu_list):\n",
    "    content += f\"{i+1}. {j[0]} --- Rs.{j[1]}\\n\"\n",
    "content"
   ]
  },
  {
   "cell_type": "code",
   "execution_count": null,
   "metadata": {},
   "outputs": [],
   "source": []
  }
 ],
 "metadata": {
  "kernelspec": {
   "display_name": "Python 3",
   "language": "python",
   "name": "python3"
  },
  "language_info": {
   "codemirror_mode": {
    "name": "ipython",
    "version": 3
   },
   "file_extension": ".py",
   "mimetype": "text/x-python",
   "name": "python",
   "nbconvert_exporter": "python",
   "pygments_lexer": "ipython3",
   "version": "3.7.6"
  }
 },
 "nbformat": 4,
 "nbformat_minor": 4
}
